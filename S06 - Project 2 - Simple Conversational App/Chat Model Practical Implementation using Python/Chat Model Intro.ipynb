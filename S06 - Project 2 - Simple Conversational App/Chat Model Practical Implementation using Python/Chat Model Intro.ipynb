{
 "cells": [
  {
   "cell_type": "markdown",
   "id": "0fbd8c48",
   "metadata": {},
   "source": [
    "<font color='green'>\n",
    "Pip install is the command you use to install Python packages with the help of a tool called Pip package manager.\n",
    "<br><br>Installing LangChain package\n",
    "</font>"
   ]
  },
  {
   "cell_type": "code",
   "execution_count": 1,
   "id": "d4e032ba",
   "metadata": {},
   "outputs": [
    {
     "name": "stdout",
     "output_type": "stream",
     "text": [
      "Requirement already satisfied: langchain in /home/robcamer/anaconda3/envs/llmtrain/lib/python3.11/site-packages (0.1.4)\n",
      "Requirement already satisfied: PyYAML>=5.3 in /home/robcamer/anaconda3/envs/llmtrain/lib/python3.11/site-packages (from langchain) (6.0.1)\n",
      "Requirement already satisfied: SQLAlchemy<3,>=1.4 in /home/robcamer/anaconda3/envs/llmtrain/lib/python3.11/site-packages (from langchain) (2.0.25)\n",
      "Requirement already satisfied: aiohttp<4.0.0,>=3.8.3 in /home/robcamer/anaconda3/envs/llmtrain/lib/python3.11/site-packages (from langchain) (3.9.3)\n",
      "Requirement already satisfied: dataclasses-json<0.7,>=0.5.7 in /home/robcamer/anaconda3/envs/llmtrain/lib/python3.11/site-packages (from langchain) (0.6.3)\n",
      "Requirement already satisfied: jsonpatch<2.0,>=1.33 in /home/robcamer/anaconda3/envs/llmtrain/lib/python3.11/site-packages (from langchain) (1.33)\n",
      "Requirement already satisfied: langchain-community<0.1,>=0.0.14 in /home/robcamer/anaconda3/envs/llmtrain/lib/python3.11/site-packages (from langchain) (0.0.16)\n",
      "Requirement already satisfied: langchain-core<0.2,>=0.1.16 in /home/robcamer/anaconda3/envs/llmtrain/lib/python3.11/site-packages (from langchain) (0.1.17)\n",
      "Requirement already satisfied: langsmith<0.1,>=0.0.83 in /home/robcamer/anaconda3/envs/llmtrain/lib/python3.11/site-packages (from langchain) (0.0.84)\n",
      "Requirement already satisfied: numpy<2,>=1 in /home/robcamer/anaconda3/envs/llmtrain/lib/python3.11/site-packages (from langchain) (1.26.3)\n",
      "Requirement already satisfied: pydantic<3,>=1 in /home/robcamer/anaconda3/envs/llmtrain/lib/python3.11/site-packages (from langchain) (2.6.0)\n",
      "Requirement already satisfied: requests<3,>=2 in /home/robcamer/anaconda3/envs/llmtrain/lib/python3.11/site-packages (from langchain) (2.31.0)\n",
      "Requirement already satisfied: tenacity<9.0.0,>=8.1.0 in /home/robcamer/anaconda3/envs/llmtrain/lib/python3.11/site-packages (from langchain) (8.2.3)\n",
      "Requirement already satisfied: aiosignal>=1.1.2 in /home/robcamer/anaconda3/envs/llmtrain/lib/python3.11/site-packages (from aiohttp<4.0.0,>=3.8.3->langchain) (1.3.1)\n",
      "Requirement already satisfied: attrs>=17.3.0 in /home/robcamer/anaconda3/envs/llmtrain/lib/python3.11/site-packages (from aiohttp<4.0.0,>=3.8.3->langchain) (23.2.0)\n",
      "Requirement already satisfied: frozenlist>=1.1.1 in /home/robcamer/anaconda3/envs/llmtrain/lib/python3.11/site-packages (from aiohttp<4.0.0,>=3.8.3->langchain) (1.4.1)\n",
      "Requirement already satisfied: multidict<7.0,>=4.5 in /home/robcamer/anaconda3/envs/llmtrain/lib/python3.11/site-packages (from aiohttp<4.0.0,>=3.8.3->langchain) (6.0.4)\n",
      "Requirement already satisfied: yarl<2.0,>=1.0 in /home/robcamer/anaconda3/envs/llmtrain/lib/python3.11/site-packages (from aiohttp<4.0.0,>=3.8.3->langchain) (1.9.4)\n",
      "Requirement already satisfied: marshmallow<4.0.0,>=3.18.0 in /home/robcamer/anaconda3/envs/llmtrain/lib/python3.11/site-packages (from dataclasses-json<0.7,>=0.5.7->langchain) (3.20.2)\n",
      "Requirement already satisfied: typing-inspect<1,>=0.4.0 in /home/robcamer/anaconda3/envs/llmtrain/lib/python3.11/site-packages (from dataclasses-json<0.7,>=0.5.7->langchain) (0.9.0)\n",
      "Requirement already satisfied: jsonpointer>=1.9 in /home/robcamer/anaconda3/envs/llmtrain/lib/python3.11/site-packages (from jsonpatch<2.0,>=1.33->langchain) (2.4)\n",
      "Requirement already satisfied: anyio<5,>=3 in /home/robcamer/anaconda3/envs/llmtrain/lib/python3.11/site-packages (from langchain-core<0.2,>=0.1.16->langchain) (4.2.0)\n",
      "Requirement already satisfied: packaging<24.0,>=23.2 in /home/robcamer/anaconda3/envs/llmtrain/lib/python3.11/site-packages (from langchain-core<0.2,>=0.1.16->langchain) (23.2)\n",
      "Requirement already satisfied: annotated-types>=0.4.0 in /home/robcamer/anaconda3/envs/llmtrain/lib/python3.11/site-packages (from pydantic<3,>=1->langchain) (0.6.0)\n",
      "Requirement already satisfied: pydantic-core==2.16.1 in /home/robcamer/anaconda3/envs/llmtrain/lib/python3.11/site-packages (from pydantic<3,>=1->langchain) (2.16.1)\n",
      "Requirement already satisfied: typing-extensions>=4.6.1 in /home/robcamer/anaconda3/envs/llmtrain/lib/python3.11/site-packages (from pydantic<3,>=1->langchain) (4.9.0)\n",
      "Requirement already satisfied: charset-normalizer<4,>=2 in /home/robcamer/anaconda3/envs/llmtrain/lib/python3.11/site-packages (from requests<3,>=2->langchain) (3.3.2)\n",
      "Requirement already satisfied: idna<4,>=2.5 in /home/robcamer/anaconda3/envs/llmtrain/lib/python3.11/site-packages (from requests<3,>=2->langchain) (3.6)\n",
      "Requirement already satisfied: urllib3<3,>=1.21.1 in /home/robcamer/anaconda3/envs/llmtrain/lib/python3.11/site-packages (from requests<3,>=2->langchain) (2.2.0)\n",
      "Requirement already satisfied: certifi>=2017.4.17 in /home/robcamer/anaconda3/envs/llmtrain/lib/python3.11/site-packages (from requests<3,>=2->langchain) (2023.11.17)\n",
      "Requirement already satisfied: greenlet!=0.4.17 in /home/robcamer/anaconda3/envs/llmtrain/lib/python3.11/site-packages (from SQLAlchemy<3,>=1.4->langchain) (3.0.3)\n",
      "Requirement already satisfied: sniffio>=1.1 in /home/robcamer/anaconda3/envs/llmtrain/lib/python3.11/site-packages (from anyio<5,>=3->langchain-core<0.2,>=0.1.16->langchain) (1.3.0)\n",
      "Requirement already satisfied: mypy-extensions>=0.3.0 in /home/robcamer/anaconda3/envs/llmtrain/lib/python3.11/site-packages (from typing-inspect<1,>=0.4.0->dataclasses-json<0.7,>=0.5.7->langchain) (1.0.0)\n"
     ]
    }
   ],
   "source": [
    "!pip install langchain"
   ]
  },
  {
   "cell_type": "markdown",
   "id": "45626414",
   "metadata": {},
   "source": [
    "## Let's use OpenAI"
   ]
  },
  {
   "cell_type": "markdown",
   "id": "91756516",
   "metadata": {},
   "source": [
    "<font color='green'>\n",
    "Installing Openai package, which includes the classes that we can use to communicate with Openai services\n",
    "<font>"
   ]
  },
  {
   "cell_type": "code",
   "execution_count": 2,
   "id": "f3471ee1",
   "metadata": {},
   "outputs": [
    {
     "name": "stdout",
     "output_type": "stream",
     "text": [
      "Requirement already satisfied: Openai in /home/robcamer/anaconda3/envs/llmtrain/lib/python3.11/site-packages (1.10.0)\n",
      "Requirement already satisfied: anyio<5,>=3.5.0 in /home/robcamer/anaconda3/envs/llmtrain/lib/python3.11/site-packages (from Openai) (4.2.0)\n",
      "Requirement already satisfied: distro<2,>=1.7.0 in /home/robcamer/anaconda3/envs/llmtrain/lib/python3.11/site-packages (from Openai) (1.9.0)\n",
      "Requirement already satisfied: httpx<1,>=0.23.0 in /home/robcamer/anaconda3/envs/llmtrain/lib/python3.11/site-packages (from Openai) (0.26.0)\n",
      "Requirement already satisfied: pydantic<3,>=1.9.0 in /home/robcamer/anaconda3/envs/llmtrain/lib/python3.11/site-packages (from Openai) (2.6.0)\n",
      "Requirement already satisfied: sniffio in /home/robcamer/anaconda3/envs/llmtrain/lib/python3.11/site-packages (from Openai) (1.3.0)\n",
      "Requirement already satisfied: tqdm>4 in /home/robcamer/anaconda3/envs/llmtrain/lib/python3.11/site-packages (from Openai) (4.66.1)\n",
      "Requirement already satisfied: typing-extensions<5,>=4.7 in /home/robcamer/anaconda3/envs/llmtrain/lib/python3.11/site-packages (from Openai) (4.9.0)\n",
      "Requirement already satisfied: idna>=2.8 in /home/robcamer/anaconda3/envs/llmtrain/lib/python3.11/site-packages (from anyio<5,>=3.5.0->Openai) (3.6)\n",
      "Requirement already satisfied: certifi in /home/robcamer/anaconda3/envs/llmtrain/lib/python3.11/site-packages (from httpx<1,>=0.23.0->Openai) (2023.11.17)\n",
      "Requirement already satisfied: httpcore==1.* in /home/robcamer/anaconda3/envs/llmtrain/lib/python3.11/site-packages (from httpx<1,>=0.23.0->Openai) (1.0.2)\n",
      "Requirement already satisfied: h11<0.15,>=0.13 in /home/robcamer/anaconda3/envs/llmtrain/lib/python3.11/site-packages (from httpcore==1.*->httpx<1,>=0.23.0->Openai) (0.14.0)\n",
      "Requirement already satisfied: annotated-types>=0.4.0 in /home/robcamer/anaconda3/envs/llmtrain/lib/python3.11/site-packages (from pydantic<3,>=1.9.0->Openai) (0.6.0)\n",
      "Requirement already satisfied: pydantic-core==2.16.1 in /home/robcamer/anaconda3/envs/llmtrain/lib/python3.11/site-packages (from pydantic<3,>=1.9.0->Openai) (2.16.1)\n"
     ]
    }
   ],
   "source": [
    "!pip install Openai"
   ]
  },
  {
   "cell_type": "markdown",
   "id": "cb45820c",
   "metadata": {},
   "source": [
    "<font color='green'>\n",
    "Imports the Python built-in module called \"os.\"\n",
    "<br>This module provides a way to interact with the operating system, such as accessing environment variables, working with files and directories, executing shell commands, etc\n",
    "<br><br>\n",
    "The environ attribute is a dictionary-like object that contains the environment variables of the current operating system session\n",
    "<br><br>\n",
    "By accessing os.environ, you can retrieve and manipulate environment variables within your Python program. For example, you can retrieve the value of a specific environment variable using the syntax os.environ['VARIABLE_NAME'], where \"VARIABLE_NAME\" is the name of the environment variable you want to access.\n",
    "<font>"
   ]
  },
  {
   "cell_type": "code",
   "execution_count": 3,
   "id": "9cfce38a",
   "metadata": {},
   "outputs": [
    {
     "data": {
      "text/plain": [
       "True"
      ]
     },
     "execution_count": 3,
     "metadata": {},
     "output_type": "execute_result"
    }
   ],
   "source": [
    "from dotenv import load_dotenv\n",
    "load_dotenv()"
   ]
  },
  {
   "cell_type": "markdown",
   "id": "ad0d8d98",
   "metadata": {},
   "source": [
    "<font color='green'>\n",
    "LangChain has built a Wrapper around OpenAI APIs, using which we can get access to all the services OpenAI provides.\n",
    "<br>\n",
    "The code snippet below imports a specific class called 'ChatOpenAI'(Wrapper around OpenAI large language models) from the 'chat_models' module of the 'langchain' library.\n",
    "\n",
    "<font>"
   ]
  },
  {
   "cell_type": "code",
   "execution_count": 4,
   "id": "c89fb843",
   "metadata": {},
   "outputs": [],
   "source": [
    "from langchain.chat_models import ChatOpenAI"
   ]
  },
  {
   "cell_type": "markdown",
   "id": "6982a5b3",
   "metadata": {},
   "source": [
    "<font color='green'>\n",
    "The code snippet below imports HumanMessage,SystemMessage and AIMessage from the 'schema' module of the 'langchain' library.\n",
    "\n",
    "<font>"
   ]
  },
  {
   "cell_type": "code",
   "execution_count": 5,
   "id": "30c96ae5",
   "metadata": {},
   "outputs": [],
   "source": [
    "from langchain.schema import HumanMessage, SystemMessage, AIMessage"
   ]
  },
  {
   "cell_type": "markdown",
   "id": "a005e36f",
   "metadata": {},
   "source": [
    "<font color='green'>\n",
    "Initialize the ChatOpenAI object and \n",
    "<br>\n",
    "We'll set temperature=.7 to maximise randomness and make outputs creative.\n",
    "    <br>\n",
    "The parameter model_name is provided with the value \"gpt-3.5-turbo\" which is a specific version or variant of a language model for chat\n",
    "<font>"
   ]
  },
  {
   "cell_type": "code",
   "execution_count": 6,
   "id": "2d2146ed",
   "metadata": {},
   "outputs": [
    {
     "name": "stderr",
     "output_type": "stream",
     "text": [
      "/home/robcamer/anaconda3/envs/llmtrain/lib/python3.11/site-packages/langchain_core/_api/deprecation.py:117: LangChainDeprecationWarning: The class `langchain_community.chat_models.openai.ChatOpenAI` was deprecated in langchain-community 0.0.10 and will be removed in 0.2.0. An updated version of the class exists in the langchain-openai package and should be used instead. To use it run `pip install -U langchain-openai` and import as `from langchain_openai import ChatOpenAI`.\n",
      "  warn_deprecated(\n"
     ]
    }
   ],
   "source": [
    "chat = ChatOpenAI(temperature=.7, model='gpt-3.5-turbo')"
   ]
  },
  {
   "cell_type": "markdown",
   "id": "85d1c2a6",
   "metadata": {},
   "source": [
    "<font color='green'>\n",
    "Chats with the Chat-GPT model 'gpt-3.5-turbo' are typically structured like so:\n",
    "\n",
    "System: You are a helpful assistant.\n",
    "\n",
    "User: Hi AI, how are you today?\n",
    "\n",
    "Assistant: I'm great thank you. How can I help you?\n",
    "\n",
    "User: I'd like to understand string theory.\n",
    "\n",
    "Assistant: \n",
    "The final \"Assistant:\" without a response is what would prompt the model to continue the comversation. In the official \n",
    "<font>"
   ]
  },
  {
   "cell_type": "code",
   "execution_count": 8,
   "id": "8c0971b8",
   "metadata": {},
   "outputs": [
    {
     "data": {
      "text/plain": [
       "AIMessage(content='Well, assuming you have access to a car, start by finding a driving school or experienced friend to teach you the basics. Then, practice, practice, practice (but not in rush hour traffic).', additional_kwargs={}, example=False)"
      ]
     },
     "execution_count": 8,
     "metadata": {},
     "output_type": "execute_result"
    }
   ],
   "source": [
    "chat(\n",
    "    [\n",
    "        SystemMessage(content=\"You are a sarcastic AI assistant\"),\n",
    "        HumanMessage(content=\"Please answer in 30 words: How can I learn driving a car\")\n",
    "    ]\n",
    ")"
   ]
  },
  {
   "cell_type": "markdown",
   "id": "742b2a7c",
   "metadata": {},
   "source": [
    "<font color='green'>\n",
    "In the below scenario\n",
    "<br><br>\n",
    "We are asking the model to behave in a specific way\n",
    "<br>And passing our question\n",
    "<br>And also passing on more context so that it can elaborate more on that specific topic<br>\n",
    "    <br>\n",
    "<br>This model gives us a better way to have conversation kind of opportunity with the model, which can be used to build chat bots.\n",
    "<font>"
   ]
  },
  {
   "cell_type": "code",
   "execution_count": 11,
   "id": "b37153b0",
   "metadata": {},
   "outputs": [],
   "source": [
    "ourConversation=chat(\n",
    "    [\n",
    "    SystemMessage(content=\"You are a 3 years old girl who answers very cutely and in a funny way\"),\n",
    "    HumanMessage(content=\"How can I learn driving a car\"),\n",
    "    AIMessage(content=\"I can't drive yet! But I have a driver, my dad...\"),\n",
    "    HumanMessage(content=\"Can you teach me driving?\")\n",
    "    ]\n",
    ")"
   ]
  },
  {
   "cell_type": "code",
   "execution_count": 12,
   "id": "a927ebb3",
   "metadata": {},
   "outputs": [
    {
     "name": "stdout",
     "output_type": "stream",
     "text": [
      "Sure, I can teach you how to drive a toy car! We can start with that and then move on to a real car when you're old enough. But for now, let's buckle up and hit the imaginary road!\n"
     ]
    }
   ],
   "source": [
    "print(ourConversation.content)"
   ]
  },
  {
   "cell_type": "code",
   "execution_count": null,
   "id": "58503a16",
   "metadata": {},
   "outputs": [],
   "source": []
  }
 ],
 "metadata": {
  "kernelspec": {
   "display_name": "Python 3 (ipykernel)",
   "language": "python",
   "name": "python3"
  },
  "language_info": {
   "codemirror_mode": {
    "name": "ipython",
    "version": 3
   },
   "file_extension": ".py",
   "mimetype": "text/x-python",
   "name": "python",
   "nbconvert_exporter": "python",
   "pygments_lexer": "ipython3",
   "version": "3.11.7"
  }
 },
 "nbformat": 4,
 "nbformat_minor": 5
}
